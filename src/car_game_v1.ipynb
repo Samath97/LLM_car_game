{
 "cells": [
  {
   "cell_type": "code",
   "execution_count": 23,
   "id": "035375d3",
   "metadata": {},
   "outputs": [],
   "source": [
    "import time\n",
    "import pygame \n",
    "import random \n",
    "import sys\n",
    "from pathlib import Path\n"
   ]
  },
  {
   "cell_type": "code",
   "execution_count": 24,
   "id": "e00e46a2",
   "metadata": {},
   "outputs": [],
   "source": [
    "cur_dir=Path().cwd()\n",
    "pygame.init() \n",
    "window_width = 800 \n",
    "window_height = 600 \n",
    "game_window = pygame.display.set_mode((window_width, window_height))\n",
    "pygame.display.set_caption(\"Car Game\")\n"
   ]
  },
  {
   "cell_type": "code",
   "execution_count": 25,
   "id": "63d432d4",
   "metadata": {},
   "outputs": [],
   "source": [
    "# Step 2: Create a car object and set its initial position on the screen \n",
    "car_image = pygame.image.load(\"car.png\") \n",
    "car_width = 25\n",
    "car_height = 50\n",
    "car_x = window_width // 2 - car_width // 2 \n",
    "car_y = window_height - car_height - 60 \n",
    "car_speed = 30\n"
   ]
  },
  {
   "cell_type": "code",
   "execution_count": 26,
   "id": "37c1baad",
   "metadata": {},
   "outputs": [],
   "source": [
    "# Step 3: Create a track with different obstacles and points \n",
    "obstacle_image = pygame.image.load(\"obstacle.png\") \n",
    "obstacle_width = 50 \n",
    "obstacle_height = 50 \n",
    "obstacle_x = random.randint(0, window_width - obstacle_width) \n",
    "obstacle_y = -obstacle_height \n",
    "obstacle_speed = .04\n",
    "\n",
    "\n",
    "point_image = pygame.image.load(\"point.png\") \n",
    "point_width = 30 \n",
    "point_height = 30 \n",
    "point_x = random.randint(0, window_width - point_width) \n",
    "point_y = -point_height \n",
    "point_speed = .04\n",
    "\n",
    "bg = pygame.image.load(\"map.png\")\n"
   ]
  },
  {
   "cell_type": "markdown",
   "id": "25589a23",
   "metadata": {},
   "source": [
    "game_window.blit(car_image,(car_x,car_y))\n",
    "game_window.blit(obstacle_image,(obstacle_x,obstacle_y))\n",
    "game_window.blit(point_image,(point_x,point_y))\n",
    "game_window.fill((255, 255, 255))"
   ]
  },
  {
   "cell_type": "code",
   "execution_count": 27,
   "id": "8aa0a87b",
   "metadata": {},
   "outputs": [],
   "source": [
    "# Step 4: Implement keyboard controls to move the car left or right \n",
    "def move_car(direction,car_x,car_speed ): \n",
    "    if direction == \"left\": \n",
    "        car_x -= car_speed \n",
    "    elif direction == \"right\":\n",
    "        car_x += car_speed\n",
    "    return car_x\n"
   ]
  },
  {
   "cell_type": "code",
   "execution_count": 28,
   "id": "6f61f29b",
   "metadata": {},
   "outputs": [],
   "source": [
    "# Step 5: Add collision detection to check if the car hits any obstacles or collects points \n",
    "def check_collision(): \n",
    "    global car_x, car_y, obstacle_x, obstacle_y, point_x, point_y\n",
    "    obstacle_rect = pygame.Rect(obstacle_x, obstacle_y, obstacle_width, obstacle_height) \n",
    "    point_rect = pygame.Rect(point_x, point_y, point_width, point_height)\n",
    "    car_rect = pygame.Rect(car_x, car_y, car_width, car_height) \n",
    "    if car_rect.colliderect(obstacle_rect): \n",
    "        return \"obstacle\" \n",
    "    elif car_rect.colliderect(point_rect): \n",
    "        return \"point\" \n",
    "    else:\n",
    "        return None\n"
   ]
  },
  {
   "cell_type": "code",
   "execution_count": 29,
   "id": "e32cbb29",
   "metadata": {},
   "outputs": [],
   "source": [
    "# Step 6: Keep track of the player's score and display it on the screen \n",
    "score = 0 \n",
    "health = 3\n",
    "font = pygame.font.Font(None, 36) \n"
   ]
  },
  {
   "cell_type": "code",
   "execution_count": 30,
   "id": "82cb665e",
   "metadata": {},
   "outputs": [],
   "source": [
    "# Step 7: Add a timer to measure the player's time to complete the track \n",
    "clock = pygame.time.Clock() \n",
    "start_time = clock.tick()\n",
    "time_limit = 60000 # 60 seconds\n"
   ]
  },
  {
   "cell_type": "markdown",
   "id": "7fd2069a",
   "metadata": {},
   "source": [
    "start_ticks=pygame.time.get_ticks() #starter tick\n",
    "while True: # mainloop\n",
    "    seconds=(pygame.time.get_ticks()-start_ticks)/1000 #calculate how many seconds\n",
    "    if seconds>10: # if more than 10 seconds close the game\n",
    "        break\n",
    "    print (seconds) #print how many seconds"
   ]
  },
  {
   "cell_type": "code",
   "execution_count": 31,
   "id": "11d6bf1c",
   "metadata": {},
   "outputs": [],
   "source": [
    "# Step 8: Implement game over conditions \n",
    "game_over = False \n"
   ]
  },
  {
   "cell_type": "code",
   "execution_count": 32,
   "id": "8635d105",
   "metadata": {},
   "outputs": [],
   "source": [
    "# Step 10: Add sound effects and background music\n",
    "#pygame.mixer.music.load(\"background_music.mp3\")\n",
    "#pygame.mixer.music.play(-1) # -1 means play the music on loop \n",
    "#collision_sound = pygame.mixer.Sound(\"collision_sound.mp3\") \n",
    "point_sound = pygame.mixer.Sound(\"point_sound.mp3\")"
   ]
  },
  {
   "cell_type": "code",
   "execution_count": 33,
   "id": "1ae6fa31",
   "metadata": {},
   "outputs": [],
   "source": [
    "\n",
    "\n",
    "while not game_over: \n",
    "    #game_window.blit(bg, (0, 0))\n",
    "    game_window.blit(car_image,(car_x,car_y))\n",
    "    game_window.blit(obstacle_image,(obstacle_x,obstacle_y))\n",
    "    game_window.blit(point_image,(point_x,point_y))\n",
    "    score_text = font.render(f'Score: {score}', True, (128, 128, 128))\n",
    "    game_window.blit(score_text, (10, 10))\n",
    "    health_text = font.render(f'Health: {health}', True, (128, 128, 128))\n",
    "    game_window.blit(health_text, (window_width-120, 10))\n",
    "    pygame.display.flip()\n",
    "    for event in pygame.event.get(): \n",
    "        if event.type == pygame.QUIT:\n",
    "            game_over = True \n",
    "            \n",
    "        elif event.type == pygame.KEYDOWN: \n",
    "            if event.key == pygame.K_LEFT:\n",
    "                car_x = move_car(\"left\",car_x, car_speed) \n",
    "            elif event.key == pygame.K_RIGHT:\n",
    "                car_x = move_car(\"right\",car_x, car_speed)\n",
    "    game_window.fill((10, 255, 150)) \n",
    "    # Move obstacles and points \n",
    "    obstacle_y += obstacle_speed \n",
    "    point_y += point_speed \n",
    "\n",
    "    # Check if the car hits any obstacles or collects points\n",
    "    collision_result = check_collision()\n",
    "    if collision_result == \"obstacle\": \n",
    "        #collision_sound.play()\n",
    "        obstacle_x = random.randint(0, window_width - obstacle_width) \n",
    "        obstacle_y = -obstacle_height\n",
    "        obstacle_speed *= 1.1\n",
    "        health -= 1\n",
    "        if health == 0:\n",
    "            health_text = font.render(f'Health: {health}', True, (128, 128, 128))\n",
    "            game_window.blit(health_text, (window_width-120, 10))\n",
    "            pygame.display.flip()\n",
    "            game_over = True \n",
    "    elif collision_result == \"point\":\n",
    "        point_sound.play()\n",
    "        point_x = random.randint(0, window_width - point_width) \n",
    "        point_y = -point_height \n",
    "        point_speed*=1.1\n",
    "        score += 1\n",
    "    if obstacle_y > 600:\n",
    "        obstacle_x = random.randint(0, window_width - obstacle_width) \n",
    "        obstacle_y = -obstacle_height\n",
    "        obstacle_speed *= 1.2\n",
    "        if obstacle_speed < 0.2:\n",
    "            obstacle_speed*=1.1\n",
    "        else:\n",
    "            obstacle_speed = random.randint(5, 10)*.02\n",
    "    if point_y > 600:\n",
    "        point_x = random.randint(0, window_width - point_width) \n",
    "        point_y = -point_height\n",
    "        point_speed*=1.1\n",
    "        if point_speed < 0.1:\n",
    "            point_speed*=1.1\n",
    "        else:\n",
    "            point_speed = random.randint(5, 10)*.01\n",
    "            \n",
    "    current_time = clock.tick()\n",
    "    if current_time > start_time + time_limit:\n",
    "        game_over = True \n",
    "        \n",
    "        \n",
    "#pygame.mixer.music.stop()\n",
    "#pygame.quit()\n",
    "#time.sleep(10000)\n",
    "#sys.exit()\n"
   ]
  },
  {
   "cell_type": "code",
   "execution_count": null,
   "id": "dc42ef55",
   "metadata": {},
   "outputs": [],
   "source": []
  }
 ],
 "metadata": {
  "kernelspec": {
   "display_name": "Python 3 (ipykernel)",
   "language": "python",
   "name": "python3"
  },
  "language_info": {
   "codemirror_mode": {
    "name": "ipython",
    "version": 3
   },
   "file_extension": ".py",
   "mimetype": "text/x-python",
   "name": "python",
   "nbconvert_exporter": "python",
   "pygments_lexer": "ipython3",
   "version": "3.10.10"
  }
 },
 "nbformat": 4,
 "nbformat_minor": 5
}
